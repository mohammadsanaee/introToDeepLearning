{
  "cells": [
    {
      "cell_type": "markdown",
      "metadata": {
        "id": "view-in-github",
        "colab_type": "text"
      },
      "source": [
        "<a href=\"https://colab.research.google.com/github/mohammadsanaee/introToDeepLearning/blob/main/2_MNIST_Fully_Connected_TASK.ipynb\" target=\"_parent\"><img src=\"https://colab.research.google.com/assets/colab-badge.svg\" alt=\"Open In Colab\"/></a>"
      ]
    },
    {
      "cell_type": "markdown",
      "metadata": {
        "id": "fIOo7906Ebt1"
      },
      "source": [
        "# MNIST classification with FCNN\n",
        "\n",
        "In this practice, we will consider the problem of image classification with fully connected neural network.\n",
        "\n",
        "We will solve the classic problem of handwritten digit recognition. The MNIST dataset has been created for this task. It contains images (28x28 pixels) of handwritten numbers from 0 to 9 -- i.e. There are 10 classes of pictures in total.\n",
        "\n",
        "Afterwards we will see, how such a neural network works for the problem of image recognition in CIFAR datasets, which are a set of real images reduced to a size of 32x32 pixels."
      ]
    },
    {
      "cell_type": "markdown",
      "metadata": {
        "id": "fq7VxTBfHkhM"
      },
      "source": [
        "# Seed random number generators\n",
        "\n",
        "Random number generators generate different sets of random numbers from run to run by default. Since random numbers are used to initialize the network weights and to form the batches, the resulting neural network's weights will differ from run to run.\n",
        "\n",
        "To make the results reproducible, it is necessary to initialize the random number generators with ```seed```s. This is done with the following commands: ```random.seed``` for the ```random``` library, ```np.random.seed``` for the ```numpy``` library. For pytorch, you will need several commands:\n",
        "\n",
        "```\n",
        "torch.manual_seed_all\n",
        "torch.cuda.manual_seed_all\n",
        "```\n",
        "\n",
        "You will also need to switch ```cuda``` to deterministic mode:\n",
        "\n",
        "```\n",
        "torch.backends.cudnn.deterministic = True\n",
        "```"
      ]
    },
    {
      "cell_type": "code",
      "execution_count": 1,
      "metadata": {
        "id": "DWr6cvb9pS3J"
      },
      "outputs": [],
      "source": [
        "import torch\n",
        "import random\n",
        "import numpy as np\n",
        "\n",
        "## YOUR CODE HERE"
      ]
    },
    {
      "cell_type": "markdown",
      "metadata": {
        "id": "Sr9W-Bg-hCjz"
      },
      "source": [
        "# Load MNIST training and validation data into RAM\n",
        "\n",
        "To do so, use the ```torchvision.datasets.MNIST``` class. Note that the training and test parts are controlled by the ```train``` parameter."
      ]
    },
    {
      "cell_type": "code",
      "execution_count": 2,
      "metadata": {
        "id": "_dg-FUvwGN-d"
      },
      "outputs": [],
      "source": [
        "from torchvision.datasets import MNIST"
      ]
    },
    {
      "cell_type": "code",
      "execution_count": 3,
      "metadata": {
        "id": "MqGQWTDIpS3R",
        "outputId": "c83793f1-91b7-4892-c45b-e5878268a152",
        "colab": {
          "base_uri": "https://localhost:8080/"
        }
      },
      "outputs": [
        {
          "output_type": "stream",
          "name": "stdout",
          "text": [
            "Downloading http://yann.lecun.com/exdb/mnist/train-images-idx3-ubyte.gz\n",
            "Downloading http://yann.lecun.com/exdb/mnist/train-images-idx3-ubyte.gz to ./MNIST/raw/train-images-idx3-ubyte.gz\n"
          ]
        },
        {
          "output_type": "stream",
          "name": "stderr",
          "text": [
            "100%|██████████| 9912422/9912422 [00:00<00:00, 103151202.92it/s]\n"
          ]
        },
        {
          "output_type": "stream",
          "name": "stdout",
          "text": [
            "Extracting ./MNIST/raw/train-images-idx3-ubyte.gz to ./MNIST/raw\n",
            "\n",
            "Downloading http://yann.lecun.com/exdb/mnist/train-labels-idx1-ubyte.gz\n",
            "Downloading http://yann.lecun.com/exdb/mnist/train-labels-idx1-ubyte.gz to ./MNIST/raw/train-labels-idx1-ubyte.gz\n"
          ]
        },
        {
          "output_type": "stream",
          "name": "stderr",
          "text": [
            "100%|██████████| 28881/28881 [00:00<00:00, 31084345.35it/s]\n"
          ]
        },
        {
          "output_type": "stream",
          "name": "stdout",
          "text": [
            "Extracting ./MNIST/raw/train-labels-idx1-ubyte.gz to ./MNIST/raw\n",
            "\n",
            "Downloading http://yann.lecun.com/exdb/mnist/t10k-images-idx3-ubyte.gz\n",
            "Downloading http://yann.lecun.com/exdb/mnist/t10k-images-idx3-ubyte.gz to ./MNIST/raw/t10k-images-idx3-ubyte.gz\n"
          ]
        },
        {
          "output_type": "stream",
          "name": "stderr",
          "text": [
            "100%|██████████| 1648877/1648877 [00:00<00:00, 25793245.75it/s]\n"
          ]
        },
        {
          "output_type": "stream",
          "name": "stdout",
          "text": [
            "Extracting ./MNIST/raw/t10k-images-idx3-ubyte.gz to ./MNIST/raw\n",
            "\n",
            "Downloading http://yann.lecun.com/exdb/mnist/t10k-labels-idx1-ubyte.gz\n",
            "Downloading http://yann.lecun.com/exdb/mnist/t10k-labels-idx1-ubyte.gz to ./MNIST/raw/t10k-labels-idx1-ubyte.gz\n"
          ]
        },
        {
          "output_type": "stream",
          "name": "stderr",
          "text": [
            "100%|██████████| 4542/4542 [00:00<00:00, 16296431.79it/s]\n"
          ]
        },
        {
          "output_type": "stream",
          "name": "stdout",
          "text": [
            "Extracting ./MNIST/raw/t10k-labels-idx1-ubyte.gz to ./MNIST/raw\n",
            "\n"
          ]
        }
      ],
      "source": [
        "## YOUR CODE HERE\n",
        "MNIST_train = MNIST ('.', train = True, download = True)\n",
        "MNIST_test = MNIST('.', train = False, download = True)\n"
      ]
    },
    {
      "cell_type": "markdown",
      "metadata": {
        "id": "Tmd5j25vi0ag"
      },
      "source": [
        "# Check that everything works"
      ]
    },
    {
      "cell_type": "code",
      "execution_count": 4,
      "metadata": {
        "colab": {
          "base_uri": "https://localhost:8080/"
        },
        "id": "vv_Lz7PYpS3U",
        "outputId": "5dd6b147-76a3-4974-9076-10bf9ed555a1"
      },
      "outputs": [
        {
          "output_type": "stream",
          "name": "stdout",
          "text": [
            "torch.Size([60000, 28, 28]) torch.Size([60000]) <- train dataset X and y\n",
            "torch.Size([10000, 28, 28]) torch.Size([10000]) <- test dataset X and y\n",
            "torch.uint8 torch.int64 <- training data type\n"
          ]
        },
        {
          "output_type": "stream",
          "name": "stderr",
          "text": [
            "/usr/local/lib/python3.10/dist-packages/torchvision/datasets/mnist.py:75: UserWarning: train_data has been renamed data\n",
            "  warnings.warn(\"train_data has been renamed data\")\n",
            "/usr/local/lib/python3.10/dist-packages/torchvision/datasets/mnist.py:65: UserWarning: train_labels has been renamed targets\n",
            "  warnings.warn(\"train_labels has been renamed targets\")\n",
            "/usr/local/lib/python3.10/dist-packages/torchvision/datasets/mnist.py:80: UserWarning: test_data has been renamed data\n",
            "  warnings.warn(\"test_data has been renamed data\")\n",
            "/usr/local/lib/python3.10/dist-packages/torchvision/datasets/mnist.py:70: UserWarning: test_labels has been renamed targets\n",
            "  warnings.warn(\"test_labels has been renamed targets\")\n"
          ]
        }
      ],
      "source": [
        "X_train = MNIST_train.train_data\n",
        "y_train = MNIST_train.train_labels\n",
        "X_test = MNIST_test.test_data\n",
        "y_test = MNIST_test.test_labels\n",
        "\n",
        "print(X_train.shape, y_train.shape, '<- train dataset X and y')\n",
        "print(X_test.shape, y_test.shape, '<- test dataset X and y')\n",
        "\n",
        "print(X_train.dtype, y_train.dtype, '<- training data type')"
      ]
    },
    {
      "cell_type": "markdown",
      "metadata": {
        "id": "8fLL9uxtjl2R"
      },
      "source": [
        "# We give formats\n",
        "\n",
        "PyTorch works with float tensors by default. Thus it is necessary to convert tensors with data to float using the tensor's ```.float()``` method. As a loss function, we will use ```torch.nn.CrossEntropy```, which takes as input the predictions of the neural network and the tensor from the numbers of the correct classes. This tensor must be in the ```long``` format. Since by default ```y``` in the dataset is already in the ```long``` format, there is no need to do anything with the labels."
      ]
    },
    {
      "cell_type": "code",
      "source": [],
      "metadata": {
        "id": "BfOOKHPAbkD0"
      },
      "execution_count": 4,
      "outputs": []
    },
    {
      "cell_type": "code",
      "execution_count": 5,
      "metadata": {
        "id": "_yTaVOrPvap6"
      },
      "outputs": [],
      "source": [
        "## YOUR CODE HERE\n",
        "X_train = X_train.float()\n",
        "X_test = X_test.float()"
      ]
    },
    {
      "cell_type": "markdown",
      "metadata": {
        "id": "KOYy5VW7l2JH"
      },
      "source": [
        "# View the data\n",
        "\n",
        "Visually evaluate the data that we have. Let's check that the markup matches what is contained in the picture. To do this, let's display an image with ```plt.imshow``` and see which label corresponds to this image.\n",
        "\n",
        "Pay attention to this code: in the following tasks, you will need to make mappings yourself."
      ]
    },
    {
      "cell_type": "code",
      "execution_count": 6,
      "metadata": {
        "colab": {
          "base_uri": "https://localhost:8080/",
          "height": 448
        },
        "id": "Z1tFXMwJpS3e",
        "outputId": "f11a00af-630c-4584-8e3f-65d9e04daedc"
      },
      "outputs": [
        {
          "output_type": "display_data",
          "data": {
            "text/plain": [
              "<Figure size 640x480 with 1 Axes>"
            ],
            "image/png": "[encoded data removed]"
          },
          "metadata": {}
        },
        {
          "output_type": "stream",
          "name": "stdout",
          "text": [
            "tensor(2)\n"
          ]
        }
      ],
      "source": [
        "import matplotlib.pyplot as plt\n",
        "\n",
        "index = 5\n",
        "\n",
        "plt.imshow(X_train[index, :, :])\n",
        "plt.show()\n",
        "print(y_train[index])"
      ]
    },
    {
      "cell_type": "markdown",
      "metadata": {
        "id": "QjHFPMEmpBcP"
      },
      "source": [
        "# Prepare the neural network\n",
        "\n",
        "In order to make a neural network in Pytorch, one should prepare a class inherited from ```pytorch.nn.Module```, which has two functions:\n",
        "\n",
        "* ```__init__(self, n_hidden_neurons)``` -- a constructor in which we define the modules that we use in the neural network. Before declaring modules, you need to initialize the parent class with ```super().__init__()```, after which you can declare the necessary modules\n",
        "The neural network in our case will consist of only three modules. Schematically, a neural network can be represented as follows:\n",
        "```\n",
        "torch.nn.Linear 28*28 -> n_hidden_neurons\n",
        "torch.nn.LeakyReLU\n",
        "torch.nn.Linear n_hidden_heurons -> 10\n",
        "```\n",
        "\n",
        "* ```forward(self, x)``` -- traverse the network forward. Here it is necessary to get forecasts for ```x```. ```x``` is a batch of images converted to a vector. Batch is a tensor of size ```N x 784```, where ```N``` is the number of images in the batch, ```784``` is the number of pixels in the black and white image (```28 x 28```). Apply the ```reshape([-1, 784])``` method to the input ```x``` (```-1``` here means \"the number that fits\", it will be automatically derived from amount of elements in the batch). After that successively apply the modules declared in the constructor to the signal and return the result."
      ]
    },
    {
      "cell_type": "code",
      "execution_count": 7,
      "metadata": {
        "id": "k7l65slppS3l"
      },
      "outputs": [],
      "source": [
        "class MNISTNet(torch.nn.Module):\n",
        "    def __init__(self, n_hidden_neurons):\n",
        "        super().__init__()\n",
        "        ## YOUR CODE HERE\n",
        "        self.layers = torch.nn.ModuleList()\n",
        "        self.activation = torch.nn.functional.leaky_relu\n",
        "\n",
        "        for i in range(len(n_hidden_neurons)-1):\n",
        "          n_inputs = n_hidden_neurons[i]\n",
        "          n_outputs = n_hidden_neurons[i+1]\n",
        "          layer = torch.nn.Linear(n_inputs,n_outputs)\n",
        "          self.layers.append(layer)\n",
        "\n",
        "\n",
        "    def forward(self, x):\n",
        "        ## YOUR CODE HERE\n",
        "        x = x.to(device)\n",
        "        res = x.reshape([x.shape[0],-1])\n",
        "        for i in range(len(self.layers)-1):\n",
        "          res = self.layers[i].forward(res)\n",
        "          if i != len(self.layers) -1:\n",
        "            res = self.activation(res)\n",
        "        return res\n"
      ]
    },
    {
      "cell_type": "markdown",
      "source": [
        "**USING GPU**"
      ],
      "metadata": {
        "id": "SAlqzqKub1HL"
      }
    },
    {
      "cell_type": "code",
      "source": [
        "device = torch.device(\"cuda:0\" if torch.cuda.is_available() else \"cpu\")\n"
      ],
      "metadata": {
        "id": "ruhOVSr1b9oN"
      },
      "execution_count": 8,
      "outputs": []
    },
    {
      "cell_type": "code",
      "source": [
        "\n",
        "X_train = X_train.to(device)  \n",
        "y_train = y_train.to(device)\n",
        "X_test = X_test.to(device)  \n",
        "y_test = y_test.to(device)"
      ],
      "metadata": {
        "id": "Y7ijBd87bxBs"
      },
      "execution_count": 9,
      "outputs": []
    },
    {
      "cell_type": "markdown",
      "metadata": {
        "id": "Yrnt4XH2w6zm"
      },
      "source": [
        "# Check that everything is correct"
      ]
    },
    {
      "cell_type": "code",
      "execution_count": 10,
      "metadata": {
        "colab": {
          "base_uri": "https://localhost:8080/"
        },
        "id": "-V1BqtLCw5rW",
        "outputId": "f8826ef7-514a-4a50-b4a8-44615c0e35e4"
      },
      "outputs": [
        {
          "output_type": "stream",
          "name": "stdout",
          "text": [
            "torch.Size([10, 100]) <- shape of predictions\n"
          ]
        }
      ],
      "source": [
        "mnist_net = MNISTNet([28*28,50,50,10]).to(device)\n",
        "res = mnist_net.forward(torch.zeros(10, 28,28))\n",
        "assert res.shape[0] == 10\n",
        "print(res.shape, '<- shape of predictions')"
      ]
    },
    {
      "cell_type": "markdown",
      "metadata": {
        "id": "6EdyxZw7xUDX"
      },
      "source": [
        "# Set the loss function and optimizer\n",
        "\n",
        "We will use ```torch.nn.CrossEntropyLoss``` as a loss function\n",
        "\n",
        "We will use ```torch.nn.Adam``` as an optimizer\n",
        "\n",
        "The optimizer should optimize all parameters of the neural network (which can be referenced using the ```mnist_net.parameters()``` method) and the learning rate should be set to $10^{-3}$."
      ]
    },
    {
      "cell_type": "code",
      "execution_count": 11,
      "metadata": {
        "id": "00_2j2igpS3o"
      },
      "outputs": [],
      "source": [
        "loss = torch.nn.CrossEntropyLoss()\n",
        "optimizer = torch.optim.Adam(mnist_net.parameters())"
      ]
    },
    {
      "cell_type": "markdown",
      "metadata": {
        "id": "gB0gV4qS0GZb"
      },
      "source": [
        "# Let's build the learning process\n",
        "\n",
        "Everything is ready: optimizer, loss function, neural network. What remains is to train the neural network.\n",
        "\n",
        "To do so, you need to create a learning cycle.\n",
        "\n",
        "The training loop usually consists of two nested loops: the inner loop runs through all the examples in the training or testing set. One such pass is called an epoch.\n",
        "\n",
        "The outer cycle iterates over epochs.\n",
        "\n",
        "# Instructions for building a training loop\n",
        "\n",
        "* Make an outer loop for a predetermined number of epochs within which:\n",
        "   * Generate a random order of the training examples using the ```order = np.random.permutation(...)``` method\n",
        "   * Make an inner loop through the training examples. The loop should iterate over ```order``` with interval ```batch_size``` (```range(0, len(order), batch_size)```), in which:\n",
        "     * Get the indice of the training examples for the current step by slicing ```indice = order[start_index:start_index+batch_size]```.\n",
        "     * Next, from the training examples and labels, you need to select the appropriate examples and labels using indexing (```X_batch = X[indice]```).\n",
        "     * Now we are ready to get neural network predictions. If you are using batch normalization or DropOut, then here you need to switch the network to training mode (```net.train()```). It always is better to have.\n",
        "     * Get predictions for the received batch using a neural network (```batch_preds = net.forward(X_batch)```).\n",
        "     * Calculate the value of the loss function based on the predictions and batch labels\n",
        "     * Reset the gradients accumulated in the neural network nodes to be optimized (```optimizer.zero_grad()```).\n",
        "     * Calculate the gradients of the loss function from the parameters of the neural network ```loss.backward()```\n",
        "     * Take an optimizer step (```optimizer.step()```).\n",
        "     * If you are using batch normalization or DropOut, switch the neural network to validation mode (```net.valid()```). It always is better to have.\n",
        "\n",
        "   * Calculate predictions for the test set (in our case, this can be done in one batch, ```test_preds = net(X_test)```)\n",
        "   * Calculate the accuracy for the test set.\n",
        "   * Calculate the loss function for the test set.\n",
        "   * Add calculated accuracy to accuracy history and loss to loss history"
      ]
    },
    {
      "cell_type": "code",
      "source": [
        "\n",
        "torch.manual_seed(4321)\n",
        "torch.cuda.manual_seed(4321)\n"
      ],
      "metadata": {
        "id": "zavMLakzPWvn"
      },
      "execution_count": 12,
      "outputs": []
    },
    {
      "cell_type": "code",
      "source": [
        "torch.backends.cudnn.deterministic = True"
      ],
      "metadata": {
        "id": "xIgi4X2EYytv"
      },
      "execution_count": 13,
      "outputs": []
    },
    {
      "cell_type": "code",
      "source": [
        "from tqdm import tqdm"
      ],
      "metadata": {
        "id": "8G3w_MCxYzWI"
      },
      "execution_count": 14,
      "outputs": []
    },
    {
      "cell_type": "code",
      "execution_count": 28,
      "metadata": {
        "id": "wZtqiGvfpS3r",
        "colab": {
          "base_uri": "https://localhost:8080/"
        },
        "outputId": "6f7b7baa-128d-41cb-be4d-8b83b1896122"
      },
      "outputs": [
        {
          "output_type": "stream",
          "name": "stderr",
          "text": [
            "100%|██████████| 1000/1000 [00:11<00:00, 86.85it/s]\n"
          ]
        }
      ],
      "source": [
        "batch_size = len(X_train)\n",
        "n_epochs = 1000\n",
        "\n",
        "train_loss_history = []\n",
        "train_accuracy_history = []\n",
        "\n",
        "test_accuracy_history = []\n",
        "test_loss_history = []\n",
        "\n",
        "## YOUR CODE HERE\n",
        "for epoch in tqdm(range(n_epochs)):\n",
        "  order = np.random.permutation(len(X_train))\n",
        "  num_batches = len(order)//batch_size\n",
        "  for i in (range(0,num_batches * batch_size, batch_size)):\n",
        "    indice = order[i:i+batch_size]\n",
        "    X_batch = X_train[indice]\n",
        "    y_batch = y_train[indice]\n",
        "    pred_batch = mnist_net.forward(X_batch)\n",
        "    loss_train = loss(pred_batch, y_batch)\n",
        "    # optimizer.zero_grad()\n",
        "    loss_train.backward()\n",
        "    optimizer.step()\n",
        "    optimizer.zero_grad()\n",
        "\n",
        "    pred_labels = pred_batch.argmax(dim=1)\n",
        "    train_acc = (pred_labels == y_batch).float().mean()\n",
        "    # print(loss_train.detach())\n",
        "    train_loss_history.append(loss_train.detach())\n",
        "    train_accuracy_history.append(train_acc.detach())\n",
        "    \n",
        "    pred_test = mnist_net.forward(X_test)\n",
        "    pred_test_labels = pred_test.argmax(dim=1)\n",
        "    loss_test = loss(pred_test,y_test)\n",
        "    test_acc = (pred_test_labels==y_test).float().mean()\n",
        "\n",
        "    test_loss_history.append(loss_test.detach())\n",
        "    test_accuracy_history.append(test_acc.detach())\n"
      ]
    },
    {
      "cell_type": "markdown",
      "metadata": {
        "id": "-pzbNWXGTFa7"
      },
      "source": [
        "# Plot the learning progress graph"
      ]
    },
    {
      "cell_type": "code",
      "execution_count": null,
      "metadata": {
        "id": "H1YXGVv6YATf"
      },
      "outputs": [],
      "source": [
        "plt.plot(train_accuracy_history)\n",
        "plt.plot(test_accuracy_history)"
      ]
    },
    {
      "cell_type": "code",
      "source": [
        "type(train_accuracy_history)"
      ],
      "metadata": {
        "colab": {
          "base_uri": "https://localhost:8080/"
        },
        "id": "7StmbRMsrCJX",
        "outputId": "ae4d3a45-d452-4c6f-be26-6688b0ce6f8b"
      },
      "execution_count": 20,
      "outputs": [
        {
          "output_type": "execute_result",
          "data": {
            "text/plain": [
              "numpy.ndarray"
            ]
          },
          "metadata": {},
          "execution_count": 20
        }
      ]
    },
    {
      "cell_type": "code",
      "source": [
        "\n",
        "train_loss_history = np.array([loss_item.cpu().detach().numpy() for loss_item in train_loss_history])\n",
        "train_accuracy_history = np.array([accuracy_item.cpu().detach().numpy() for accuracy_item in train_accuracy_history])\n",
        "test_loss_history = np.array([loss_item.cpu().detach().numpy() for loss_item in test_loss_history])\n",
        "test_accuracy_history = np.array([accuracy_item.cpu().detach().numpy() for accuracy_item in test_accuracy_history])\n",
        "\n"
      ],
      "metadata": {
        "colab": {
          "base_uri": "https://localhost:8080/",
          "height": 365
        },
        "id": "JQ3u4m6jf_P9",
        "outputId": "e2b7054a-2198-4d91-9492-1ce940db1663"
      },
      "execution_count": 32,
      "outputs": [
        {
          "output_type": "error",
          "ename": "AttributeError",
          "evalue": "ignored",
          "traceback": [
            "\u001b[0;31m---------------------------------------------------------------------------\u001b[0m",
            "\u001b[0;31mAttributeError\u001b[0m                            Traceback (most recent call last)",
            "\u001b[0;32m<ipython-input-32-c2d78af7d19e>\u001b[0m in \u001b[0;36m<cell line: 1>\u001b[0;34m()\u001b[0m\n\u001b[0;32m----> 1\u001b[0;31m \u001b[0mtrain_loss_history\u001b[0m \u001b[0;34m=\u001b[0m \u001b[0mnp\u001b[0m\u001b[0;34m.\u001b[0m\u001b[0marray\u001b[0m\u001b[0;34m(\u001b[0m\u001b[0;34m[\u001b[0m\u001b[0mloss_item\u001b[0m\u001b[0;34m.\u001b[0m\u001b[0mcpu\u001b[0m\u001b[0;34m(\u001b[0m\u001b[0;34m)\u001b[0m\u001b[0;34m.\u001b[0m\u001b[0mdetach\u001b[0m\u001b[0;34m(\u001b[0m\u001b[0;34m)\u001b[0m\u001b[0;34m.\u001b[0m\u001b[0mnumpy\u001b[0m\u001b[0;34m(\u001b[0m\u001b[0;34m)\u001b[0m \u001b[0;32mfor\u001b[0m \u001b[0mloss_item\u001b[0m \u001b[0;32min\u001b[0m \u001b[0mtrain_loss_history\u001b[0m\u001b[0;34m]\u001b[0m\u001b[0;34m)\u001b[0m\u001b[0;34m\u001b[0m\u001b[0;34m\u001b[0m\u001b[0m\n\u001b[0m\u001b[1;32m      2\u001b[0m \u001b[0mtrain_accuracy_history\u001b[0m \u001b[0;34m=\u001b[0m \u001b[0mnp\u001b[0m\u001b[0;34m.\u001b[0m\u001b[0marray\u001b[0m\u001b[0;34m(\u001b[0m\u001b[0;34m[\u001b[0m\u001b[0maccuracy_item\u001b[0m\u001b[0;34m.\u001b[0m\u001b[0mcpu\u001b[0m\u001b[0;34m(\u001b[0m\u001b[0;34m)\u001b[0m\u001b[0;34m.\u001b[0m\u001b[0mdetach\u001b[0m\u001b[0;34m(\u001b[0m\u001b[0;34m)\u001b[0m\u001b[0;34m.\u001b[0m\u001b[0mnumpy\u001b[0m\u001b[0;34m(\u001b[0m\u001b[0;34m)\u001b[0m \u001b[0;32mfor\u001b[0m \u001b[0maccuracy_item\u001b[0m \u001b[0;32min\u001b[0m \u001b[0mtrain_accuracy_history\u001b[0m\u001b[0;34m]\u001b[0m\u001b[0;34m)\u001b[0m\u001b[0;34m\u001b[0m\u001b[0;34m\u001b[0m\u001b[0m\n\u001b[1;32m      3\u001b[0m \u001b[0mtest_loss_history\u001b[0m \u001b[0;34m=\u001b[0m \u001b[0mnp\u001b[0m\u001b[0;34m.\u001b[0m\u001b[0marray\u001b[0m\u001b[0;34m(\u001b[0m\u001b[0;34m[\u001b[0m\u001b[0mloss_item\u001b[0m\u001b[0;34m.\u001b[0m\u001b[0mcpu\u001b[0m\u001b[0;34m(\u001b[0m\u001b[0;34m)\u001b[0m\u001b[0;34m.\u001b[0m\u001b[0mdetach\u001b[0m\u001b[0;34m(\u001b[0m\u001b[0;34m)\u001b[0m\u001b[0;34m.\u001b[0m\u001b[0mnumpy\u001b[0m\u001b[0;34m(\u001b[0m\u001b[0;34m)\u001b[0m \u001b[0;32mfor\u001b[0m \u001b[0mloss_item\u001b[0m \u001b[0;32min\u001b[0m \u001b[0mtest_loss_history\u001b[0m\u001b[0;34m]\u001b[0m\u001b[0;34m)\u001b[0m\u001b[0;34m\u001b[0m\u001b[0;34m\u001b[0m\u001b[0m\n\u001b[1;32m      4\u001b[0m \u001b[0mtest_accuracy_history\u001b[0m \u001b[0;34m=\u001b[0m \u001b[0mnp\u001b[0m\u001b[0;34m.\u001b[0m\u001b[0marray\u001b[0m\u001b[0;34m(\u001b[0m\u001b[0;34m[\u001b[0m\u001b[0maccuracy_item\u001b[0m\u001b[0;34m.\u001b[0m\u001b[0mcpu\u001b[0m\u001b[0;34m(\u001b[0m\u001b[0;34m)\u001b[0m\u001b[0;34m.\u001b[0m\u001b[0mdetach\u001b[0m\u001b[0;34m(\u001b[0m\u001b[0;34m)\u001b[0m\u001b[0;34m.\u001b[0m\u001b[0mnumpy\u001b[0m\u001b[0;34m(\u001b[0m\u001b[0;34m)\u001b[0m \u001b[0;32mfor\u001b[0m \u001b[0maccuracy_item\u001b[0m \u001b[0;32min\u001b[0m \u001b[0mtest_accuracy_history\u001b[0m\u001b[0;34m]\u001b[0m\u001b[0;34m)\u001b[0m\u001b[0;34m\u001b[0m\u001b[0;34m\u001b[0m\u001b[0m\n\u001b[1;32m      5\u001b[0m \u001b[0;34m\u001b[0m\u001b[0m\n",
            "\u001b[0;32m<ipython-input-32-c2d78af7d19e>\u001b[0m in \u001b[0;36m<listcomp>\u001b[0;34m(.0)\u001b[0m\n\u001b[0;32m----> 1\u001b[0;31m \u001b[0mtrain_loss_history\u001b[0m \u001b[0;34m=\u001b[0m \u001b[0mnp\u001b[0m\u001b[0;34m.\u001b[0m\u001b[0marray\u001b[0m\u001b[0;34m(\u001b[0m\u001b[0;34m[\u001b[0m\u001b[0mloss_item\u001b[0m\u001b[0;34m.\u001b[0m\u001b[0mcpu\u001b[0m\u001b[0;34m(\u001b[0m\u001b[0;34m)\u001b[0m\u001b[0;34m.\u001b[0m\u001b[0mdetach\u001b[0m\u001b[0;34m(\u001b[0m\u001b[0;34m)\u001b[0m\u001b[0;34m.\u001b[0m\u001b[0mnumpy\u001b[0m\u001b[0;34m(\u001b[0m\u001b[0;34m)\u001b[0m \u001b[0;32mfor\u001b[0m \u001b[0mloss_item\u001b[0m \u001b[0;32min\u001b[0m \u001b[0mtrain_loss_history\u001b[0m\u001b[0;34m]\u001b[0m\u001b[0;34m)\u001b[0m\u001b[0;34m\u001b[0m\u001b[0;34m\u001b[0m\u001b[0m\n\u001b[0m\u001b[1;32m      2\u001b[0m \u001b[0mtrain_accuracy_history\u001b[0m \u001b[0;34m=\u001b[0m \u001b[0mnp\u001b[0m\u001b[0;34m.\u001b[0m\u001b[0marray\u001b[0m\u001b[0;34m(\u001b[0m\u001b[0;34m[\u001b[0m\u001b[0maccuracy_item\u001b[0m\u001b[0;34m.\u001b[0m\u001b[0mcpu\u001b[0m\u001b[0;34m(\u001b[0m\u001b[0;34m)\u001b[0m\u001b[0;34m.\u001b[0m\u001b[0mdetach\u001b[0m\u001b[0;34m(\u001b[0m\u001b[0;34m)\u001b[0m\u001b[0;34m.\u001b[0m\u001b[0mnumpy\u001b[0m\u001b[0;34m(\u001b[0m\u001b[0;34m)\u001b[0m \u001b[0;32mfor\u001b[0m \u001b[0maccuracy_item\u001b[0m \u001b[0;32min\u001b[0m \u001b[0mtrain_accuracy_history\u001b[0m\u001b[0;34m]\u001b[0m\u001b[0;34m)\u001b[0m\u001b[0;34m\u001b[0m\u001b[0;34m\u001b[0m\u001b[0m\n\u001b[1;32m      3\u001b[0m \u001b[0mtest_loss_history\u001b[0m \u001b[0;34m=\u001b[0m \u001b[0mnp\u001b[0m\u001b[0;34m.\u001b[0m\u001b[0marray\u001b[0m\u001b[0;34m(\u001b[0m\u001b[0;34m[\u001b[0m\u001b[0mloss_item\u001b[0m\u001b[0;34m.\u001b[0m\u001b[0mcpu\u001b[0m\u001b[0;34m(\u001b[0m\u001b[0;34m)\u001b[0m\u001b[0;34m.\u001b[0m\u001b[0mdetach\u001b[0m\u001b[0;34m(\u001b[0m\u001b[0;34m)\u001b[0m\u001b[0;34m.\u001b[0m\u001b[0mnumpy\u001b[0m\u001b[0;34m(\u001b[0m\u001b[0;34m)\u001b[0m \u001b[0;32mfor\u001b[0m \u001b[0mloss_item\u001b[0m \u001b[0;32min\u001b[0m \u001b[0mtest_loss_history\u001b[0m\u001b[0;34m]\u001b[0m\u001b[0;34m)\u001b[0m\u001b[0;34m\u001b[0m\u001b[0;34m\u001b[0m\u001b[0m\n\u001b[1;32m      4\u001b[0m \u001b[0mtest_accuracy_history\u001b[0m \u001b[0;34m=\u001b[0m \u001b[0mnp\u001b[0m\u001b[0;34m.\u001b[0m\u001b[0marray\u001b[0m\u001b[0;34m(\u001b[0m\u001b[0;34m[\u001b[0m\u001b[0maccuracy_item\u001b[0m\u001b[0;34m.\u001b[0m\u001b[0mcpu\u001b[0m\u001b[0;34m(\u001b[0m\u001b[0;34m)\u001b[0m\u001b[0;34m.\u001b[0m\u001b[0mdetach\u001b[0m\u001b[0;34m(\u001b[0m\u001b[0;34m)\u001b[0m\u001b[0;34m.\u001b[0m\u001b[0mnumpy\u001b[0m\u001b[0;34m(\u001b[0m\u001b[0;34m)\u001b[0m \u001b[0;32mfor\u001b[0m \u001b[0maccuracy_item\u001b[0m \u001b[0;32min\u001b[0m \u001b[0mtest_accuracy_history\u001b[0m\u001b[0;34m]\u001b[0m\u001b[0;34m)\u001b[0m\u001b[0;34m\u001b[0m\u001b[0;34m\u001b[0m\u001b[0m\n\u001b[1;32m      5\u001b[0m \u001b[0;34m\u001b[0m\u001b[0m\n",
            "\u001b[0;31mAttributeError\u001b[0m: 'float' object has no attribute 'cpu'"
          ]
        }
      ]
    },
    {
      "cell_type": "code",
      "source": [
        "plt.figure(figsize=(10, 5))\n",
        "plt.plot(train_loss_history, label='Training Loss')\n",
        "plt.plot(test_loss_history, label='Testing Loss')\n",
        "plt.xlabel('Epoch')\n",
        "plt.ylabel('Loss')\n",
        "plt.legend()\n",
        "plt.title('Training and Testing Loss')\n",
        "plt.show()\n",
        "\n",
        "plt.figure(figsize=(10, 5))\n",
        "plt.plot(train_accuracy_history, label='Training Accuracy')\n",
        "plt.plot(test_accuracy_history, label='Testing Accuracy')\n",
        "plt.xlabel('Epoch')\n",
        "plt.ylabel('Accuracy')\n",
        "plt.legend()\n",
        "plt.title('Training and Testing Accuracy')\n",
        "plt.show()\n"
      ],
      "metadata": {
        "colab": {
          "base_uri": "https://localhost:8080/",
          "height": 957
        },
        "id": "gOajHVfyrYdx",
        "outputId": "6489f49c-b14e-4e12-a6c8-a46190680b1f"
      },
      "execution_count": 34,
      "outputs": [
        {
          "output_type": "display_data",
          "data": {
            "text/plain": [
              "<Figure size 1000x500 with 1 Axes>"
            ],
            "image/png": "[encoded data removed]"
          },
          "metadata": {}
        },
        {
          "output_type": "display_data",
          "data": {
            "text/plain": [
              "<Figure size 1000x500 with 1 Axes>"
            ],
            "image/png": "[encoded data removed]"
          },
          "metadata": {}
        }
      ]
    },
    {
      "cell_type": "markdown",
      "metadata": {
        "id": "bAmVWtqpTQ0R"
      },
      "source": [
        "# Afterword\n",
        "\n",
        "You have done your first cycle of learning on your own. It is quite simple and concise, takes no more than 100 lines, and it is quite easy to rewrite it. More and more functionality can be added to this learning cycle. As a result, the learning loop will become very large and unreadable, the logic inside the loop will be quite difficult to understand.\n",
        "\n",
        "In order not to think about training cycles, libraries have been developed to simplify the training of neural networks, such as PyTorch Lightning. We'll get to know PyTorch Lightning in the next practice."
      ]
    }
  ],
  "metadata": {
    "accelerator": "GPU",
    "colab": {
      "provenance": [],
      "gpuType": "T4",
      "include_colab_link": true
    },
    "kernelspec": {
      "display_name": "Python 3 (ipykernel)",
      "language": "python",
      "name": "python3"
    },
    "language_info": {
      "codemirror_mode": {
        "name": "ipython",
        "version": 3
      },
      "file_extension": ".py",
      "mimetype": "text/x-python",
      "name": "python",
      "nbconvert_exporter": "python",
      "pygments_lexer": "ipython3",
      "version": "3.9.5"
    },
    "gpuClass": "standard"
  },
  "nbformat": 4,
  "nbformat_minor": 0
}